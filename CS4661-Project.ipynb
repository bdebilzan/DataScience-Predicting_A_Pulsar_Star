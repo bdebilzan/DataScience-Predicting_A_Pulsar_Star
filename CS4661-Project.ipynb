{
 "cells": [
  {
   "cell_type": "markdown",
   "metadata": {},
   "source": [
    "Veronica Toriz"
   ]
  },
  {
   "cell_type": "code",
   "execution_count": null,
   "metadata": {},
   "outputs": [],
   "source": [
    "import numpy as np # linear algebra\n",
    "import pandas as pd # data processing\n",
    "from sklearn import preprocessing\n",
    "from sklearn.tree import DecisionTreeClassifier\n",
    "from sklearn.model_selection import train_test_split\n",
    "from sklearn.svm import SVC"
   ]
  },
  {
   "cell_type": "markdown",
   "metadata": {},
   "source": [
    "Loading the dataset"
   ]
  },
  {
   "cell_type": "code",
   "execution_count": null,
   "metadata": {},
   "outputs": [],
   "source": [
    "stars_df = pd.read_csv('/Users/brycedebilzan/Desktop/Classes/CS4661-DATA_SCIENCE/PROJECT/pulsar_stars.csv')\n",
    "stars_df.head()"
   ]
  },
  {
   "cell_type": "code",
   "execution_count": null,
   "metadata": {},
   "outputs": [],
   "source": [
    "stars_df.tail() #last five rows of the dataset just to  verified the size\n"
   ]
  },
  {
   "cell_type": "markdown",
   "metadata": {},
   "source": [
    "                           Creating the X Matrix and Y lable"
   ]
  },
  {
   "cell_type": "code",
   "execution_count": null,
   "metadata": {},
   "outputs": [],
   "source": [
    "#from sklearn.model_selection import train_test_split\n",
    "\n",
    "stars_df.columns = ['Mean_of_the_integrated_profile','Standard_deviation_of_the_integrated_profile',\n",
    "                'Excess_kurtosis_of_the_integrated_profile','Skewness_of_the_integrated_profile',\n",
    "                'Mean_of_the_DM-SNR_curve','Standard_deviation_of_the_DM-SNR_curve',\n",
    "                 'Excess_kurtosis_of_the_DM-SNR_curve','Skewness_of_the_DM-SNR_curve','target_class']\n",
    "\n",
    "feature_cols = ['Mean_of_the_integrated_profile','Standard_deviation_of_the_integrated_profile',\n",
    "                'Excess_kurtosis_of_the_integrated_profile','Skewness_of_the_integrated_profile',\n",
    "                'Mean_of_the_DM-SNR_curve','Standard_deviation_of_the_DM-SNR_curve',\n",
    "                 'Excess_kurtosis_of_the_DM-SNR_curve','Skewness_of_the_DM-SNR_curve']\n",
    "\n",
    "X = stars_df[feature_cols] \n",
    "y = stars_df['target_class']\n",
    "\n",
    "\n",
    "X.head()\n",
    "X.tail()\n",
    "y.tail()"
   ]
  },
  {
   "cell_type": "markdown",
   "metadata": {},
   "source": [
    "Scalling the dataset\n"
   ]
  },
  {
   "cell_type": "code",
   "execution_count": null,
   "metadata": {},
   "outputs": [],
   "source": [
    "#from sklearn import preprocessing\n",
    "X_scaled = preprocessing.scale(X)"
   ]
  },
  {
   "cell_type": "markdown",
   "metadata": {},
   "source": [
    "\n",
    "\n",
    "Spliting the data"
   ]
  },
  {
   "cell_type": "code",
   "execution_count": null,
   "metadata": {},
   "outputs": [],
   "source": [
    "\n",
    "\n",
    "X_train, X_test, y_train, y_test = train_test_split(X_scaled, y ,test_size=0.2)"
   ]
  },
  {
   "cell_type": "markdown",
   "metadata": {},
   "source": [
    "### Support Vector Machine(SVM)"
   ]
  },
  {
   "cell_type": "code",
   "execution_count": null,
   "metadata": {},
   "outputs": [],
   "source": [
    "\n",
    "svm_model = SVC(random_state=42,C=300,gamma=1.5,kernel=\"poly\",probability=True)\n",
    "\n",
    "svm_model.fit(X_train,y_train)\n",
    "\n",
    "y_head_svm = svm_model.predict(X_test)\n",
    "\n",
    "svm_score = svm_model.score(X_test, y_test)\n",
    "print(svm_score)"
   ]
  },
  {
   "cell_type": "markdown",
   "metadata": {},
   "source": [
    "### Decision Tree Clasifier"
   ]
  },
  {
   "cell_type": "code",
   "execution_count": null,
   "metadata": {},
   "outputs": [],
   "source": [
    "\n",
    "dc_model = DecisionTreeClassifier(random_state=42)\n",
    "\n",
    "dc_model.fit(X_train,y_train)\n",
    "\n",
    "y_head_dc = dc_model.predict(X_test)\n",
    "\n",
    "dc_score = dc_model.score(X_test,y_test)\n",
    "print(dc_score)"
   ]
  },
  {
   "cell_type": "markdown",
   "metadata": {},
   "source": [
    "Bart Chart Comparison"
   ]
  },
  {
   "cell_type": "code",
   "execution_count": null,
   "metadata": {},
   "outputs": [],
   "source": [
    "algorithms = (\"Support Vector Machine\", \"Decision Tree\")\n",
    "scores = (svm_score, dc_score)\n",
    "y_pos = np.arange(1,7)\n",
    "colors = (\"green\",\"red\")\n",
    "\n",
    "plt.figure(figsize=(24,12))\n",
    "plt.xticks(y_pos,algorithms,fontsize=18)\n",
    "plt.yticks(np.arange(0.00, 1.01, step=0.01))\n",
    "plt.ylim(0.90,1.00)\n",
    "plt.bar(y_pos,scores,color=colors)\n",
    "plt.grid()\n",
    "plt.suptitle(\"Bar Chart Comparison of Models\",fontsize=24)\n",
    "plt.show()"
   ]
  },
  {
   "cell_type": "code",
   "execution_count": null,
   "metadata": {},
   "outputs": [],
   "source": [
    "Conclusion:"
   ]
  },
  {
   "cell_type": "code",
   "execution_count": null,
   "metadata": {},
   "outputs": [],
   "source": []
  },
  {
   "cell_type": "code",
   "execution_count": null,
   "metadata": {},
   "outputs": [],
   "source": []
  }
 ],
 "metadata": {
  "kernelspec": {
   "display_name": "Python 3",
   "language": "python",
   "name": "python3"
  },
  "language_info": {
   "codemirror_mode": {
    "name": "ipython",
    "version": 3
   },
   "file_extension": ".py",
   "mimetype": "text/x-python",
   "name": "python",
   "nbconvert_exporter": "python",
   "pygments_lexer": "ipython3",
   "version": "3.6.5"
  }
 },
 "nbformat": 4,
 "nbformat_minor": 2
}
